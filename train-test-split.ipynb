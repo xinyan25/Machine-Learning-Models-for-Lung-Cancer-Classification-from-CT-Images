{
 "cells": [
  {
   "cell_type": "code",
   "execution_count": null,
   "metadata": {},
   "outputs": [],
   "source": [
    "#use PCA to narrow down the image into 12x12\n",
    "def red_dim(X):\n",
    "    pca = decomposition.PCA(n_components=144, svd_solver='randomized', whiten=True)\n",
    "    pca.fit(X)\n",
    "    return pca"
   ]
  },
  {
   "cell_type": "code",
   "execution_count": null,
   "metadata": {},
   "outputs": [],
   "source": [
    "pca = red_dim(X_array)"
   ]
  },
  {
   "cell_type": "code",
   "execution_count": null,
   "metadata": {},
   "outputs": [],
   "source": [
    "X_train,X_test,y_train,y_test=train_test_split(X_array,Y_array,test_size=0.3,random_state=0)\n",
    "print(len(X_train),len(X_test),len(y_train),len(y_test))"
   ]
  },
  {
   "cell_type": "code",
   "execution_count": null,
   "metadata": {},
   "outputs": [],
   "source": [
    "X_train_pca = pca.transform(X_train)\n",
    "X_test_pca = pca.transform(X_test)"
   ]
  },
  {
   "cell_type": "code",
   "execution_count": null,
   "metadata": {},
   "outputs": [],
   "source": [
    "feat_cols = [ 'pixel'+str(i) for i in range (144) ]\n",
    "pd_train_X=pd.DataFrame(X_train_pca,columns=feat_cols)\n",
    "pd_test_X=pd.DataFrame(X_test_pca,columns=feat_cols)\n",
    "pd_train_y=pd.DataFrame(y_train,columns=['type'])\n",
    "pd_test_y=pd.DataFrame(y_test,columns=['type'])"
   ]
  },
  {
   "cell_type": "code",
   "execution_count": null,
   "metadata": {},
   "outputs": [],
   "source": [
    "train= pd.concat([pd_train_X, pd_train_y], axis=1, join='inner')\n",
    "test = pd.concat([pd_test_X, pd_test_y], axis=1, join='inner')\n",
    "data = pd.concat([train,test],axis=0,join='inner')\n",
    "data.to_csv('data.csv',index=False)"
   ]
  },
  {
   "cell_type": "code",
   "execution_count": null,
   "metadata": {},
   "outputs": [],
   "source": [
    "spark = SparkSession.builder.appName('ml-test').getOrCreate()\n",
    "train = spark.read.csv('data.csv',header = True, inferSchema = True)"
   ]
  },
  {
   "cell_type": "code",
   "execution_count": null,
   "metadata": {},
   "outputs": [],
   "source": [
    "assembler = VectorAssembler(inputCols=[\"pixel0\", \"pixel1\", \"pixel2\", \"pixel3\", \"pixel4\", \"pixel5\", \"pixel6\", \"pixel7\", \"pixel8\", \"pixel9\", \"pixel10\", \"pixel11\", \"pixel12\", \"pixel13\", \"pixel14\", \"pixel15\", \"pixel16\", \"pixel17\", \"pixel18\", \"pixel19\", \"pixel20\", \"pixel21\", \"pixel22\", \"pixel23\", \"pixel24\", \"pixel25\", \"pixel26\", \"pixel27\", \"pixel28\", \"pixel29\", \"pixel30\", \"pixel31\", \"pixel32\", \"pixel33\",\"pixel34\", \"pixel35\", \"pixel36\", \"pixel37\", \"pixel38\", \"pixel39\", \"pixel40\", \"pixel41\", \"pixel42\", \"pixel43\", \"pixel44\", \"pixel45\", \"pixel46\", \"pixel47\", \"pixel48\", \"pixel49\", \"pixel50\", \"pixel51\", \"pixel52\", \"pixel53\", \"pixel54\", \"pixel55\", \"pixel56\", \"pixel57\", \"pixel58\", \"pixel59\", \"pixel60\", \"pixel61\", \"pixel62\", \"pixel63\", \"pixel64\", \"pixel65\", \"pixel66\", \"pixel67\", \"pixel68\", \"pixel69\", \"pixel70\", \"pixel71\", \"pixel72\", \"pixel73\", \"pixel74\", \"pixel75\", \"pixel76\", \"pixel77\", \"pixel78\", \"pixel79\", \"pixel80\", \"pixel81\", \"pixel82\", \"pixel83\", \"pixel84\", \"pixel85\", \"pixel86\", \"pixel87\", \"pixel88\", \"pixel89\", \"pixel90\", \"pixel91\", \"pixel92\", \"pixel93\", \"pixel94\", \"pixel95\", \"pixel96\", \"pixel97\", \"pixel98\", \"pixel99\", \"pixel100\", \"pixel101\", \"pixel102\", \"pixel103\", \"pixel104\", \"pixel105\", \"pixel106\", \"pixel107\", \"pixel108\", \"pixel109\", \"pixel110\", \"pixel111\", \"pixel112\", \"pixel113\", \"pixel114\", \"pixel115\", \"pixel116\", \"pixel117\", \"pixel118\", \"pixel119\", \"pixel120\", \"pixel121\", \"pixel122\", \"pixel123\", \"pixel124\", \"pixel125\", \"pixel126\", \"pixel127\", \"pixel128\", \"pixel129\", \"pixel130\", \"pixel131\", \"pixel132\", \"pixel133\", \"pixel134\", \"pixel135\", \"pixel136\", \"pixel137\", \"pixel138\", \"pixel139\", \"pixel140\", \"pixel141\", \"pixel142\", \"pixel143\"], outputCol=\"features\")"
   ]
  },
  {
   "cell_type": "code",
   "execution_count": null,
   "metadata": {},
   "outputs": [],
   "source": [
    "train = assembler.transform(train)"
   ]
  },
  {
   "cell_type": "code",
   "execution_count": null,
   "metadata": {},
   "outputs": [],
   "source": [
    "# training data/testing data=0.7/0.3\n",
    "train1, test1 = train.randomSplit([0.7, 0.3])\n",
    "print(\"Training Dataset Count: \" + str(train1.count()))\n",
    "print(\"Testing Dataset Count: \" + str(test1.count()))"
   ]
  }
 ],
 "metadata": {
  "kernelspec": {
   "display_name": "Python 3",
   "language": "python",
   "name": "python3"
  },
  "language_info": {
   "codemirror_mode": {
    "name": "ipython",
    "version": 3
   },
   "file_extension": ".py",
   "mimetype": "text/x-python",
   "name": "python",
   "nbconvert_exporter": "python",
   "pygments_lexer": "ipython3",
   "version": "3.8.5"
  }
 },
 "nbformat": 4,
 "nbformat_minor": 4
}
