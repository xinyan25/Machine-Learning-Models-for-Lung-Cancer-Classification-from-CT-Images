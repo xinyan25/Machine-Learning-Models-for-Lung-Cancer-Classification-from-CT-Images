{
 "cells": [
  {
   "cell_type": "code",
   "execution_count": null,
   "metadata": {},
   "outputs": [],
   "source": [
    "train_dir = os.path.join(\"D:\\\\Lung-PET-CT-Dx\\\\Lung_Dx-A0001\\\\04-04-2007-Chest-07990\\\\2.000000-5mm-40805\")\n",
    "label_dir = os.path.join(\"D:\\\\Annotation\")\n",
    "print(train_dir)  "
   ]
  },
  {
   "cell_type": "code",
   "execution_count": null,
   "metadata": {},
   "outputs": [],
   "source": [
    "train_image_names = os.listdir(train_dir)\n",
    "train_labels_names = os.listdir(label_dir)"
   ]
  },
  {
   "cell_type": "code",
   "execution_count": null,
   "metadata": {},
   "outputs": [],
   "source": [
    "#read in image to see the data\n",
    "ds = pydicom.read_file(train_dir+\"\\\\\" + train_image_names[8])\n",
    "pix = ds.pixel_array\n",
    "\n",
    "pylab.imshow(pix, cmap=pylab.cm.bone)\n",
    "pylab.show()"
   ]
  },
  {
   "cell_type": "code",
   "execution_count": null,
   "metadata": {},
   "outputs": [],
   "source": [
    "# Four types cancer images, marked as 0-3\n",
    "cancer_dict={\n",
    "    'A':0,\n",
    "    'B':1,\n",
    "    'E':2,\n",
    "    'G':3,\n",
    "}"
   ]
  },
  {
   "cell_type": "code",
   "execution_count": null,
   "metadata": {},
   "outputs": [],
   "source": [
    "data_dir = 'D:\\\\Lung-PET-CT-Dx'\n",
    "classes=list_with_no_hidden(data_dir)"
   ]
  },
  {
   "cell_type": "code",
   "execution_count": null,
   "metadata": {},
   "outputs": [],
   "source": [
    "#read in all data\n",
    "data = []\n",
    "X_array = []\n",
    "Y_array = []\n",
    "for cls in tqdm(classes):\n",
    "    Chests = list_with_no_hidden(data_dir+'\\\\'+cls)\n",
    "    result_type = cancer_dict[cls[8]]####<--------------------cancer type\n",
    "    for chest in Chests:\n",
    "        File = list_with_no_hidden(data_dir+'\\\\'+cls+\"\\\\\"+chest)\n",
    "        for file in File:\n",
    "            Img = list_with_no_hidden(data_dir+'\\\\'+cls+\"\\\\\"+chest+'\\\\'+file)\n",
    "            for img in Img:\n",
    "                ds = pydicom.read_file(data_dir+'\\\\'+cls+\"\\\\\"+chest+\"\\\\\"+file+\"\\\\\"+img)\n",
    "                pix = ds.pixel_array\n",
    "                pix_reshape = pix.reshape(pix.shape[0]*pix.shape[1], )   \n",
    "        \n",
    "                pix_array = np.append(pix_reshape, result_type)\n",
    "                \n",
    "                pix_reshape = np.array(pix_reshape)\n",
    "                result_type = np.array(result_type)\n",
    "                #data.append(pix_array)\n",
    "                X_array.append(pix_reshape)\n",
    "                Y_array.append(result_type)\n"
   ]
  }
 ],
 "metadata": {
  "kernelspec": {
   "display_name": "Python 3",
   "language": "python",
   "name": "python3"
  },
  "language_info": {
   "codemirror_mode": {
    "name": "ipython",
    "version": 3
   },
   "file_extension": ".py",
   "mimetype": "text/x-python",
   "name": "python",
   "nbconvert_exporter": "python",
   "pygments_lexer": "ipython3",
   "version": "3.8.5"
  }
 },
 "nbformat": 4,
 "nbformat_minor": 4
}
